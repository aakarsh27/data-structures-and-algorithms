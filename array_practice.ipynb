{
 "cells": [
  {
   "cell_type": "markdown",
   "metadata": {},
   "source": [
    "questions to practice"
   ]
  },
  {
   "cell_type": "code",
   "execution_count": 42,
   "metadata": {},
   "outputs": [],
   "source": [
    "from array import *"
   ]
  },
  {
   "cell_type": "code",
   "execution_count": 16,
   "metadata": {},
   "outputs": [
    {
     "name": "stdout",
     "output_type": "stream",
     "text": [
      "array('i', [1, 2, 3, 4, 5])\n",
      "1\n",
      "2\n",
      "3\n",
      "4\n",
      "5\n"
     ]
    }
   ],
   "source": [
    "# 1. create an array and traverse\n",
    "\n",
    "arr1 = array('i', [1,2,3,4,5])\n",
    "\n",
    "print(arr1)\n",
    "\n",
    "def traverseArray(array):\n",
    "    for i in range(len(array)):\n",
    "        print(array[i])\n",
    "\n",
    "traverseArray(arr1)\n"
   ]
  },
  {
   "cell_type": "code",
   "execution_count": 2,
   "metadata": {},
   "outputs": [
    {
     "name": "stdout",
     "output_type": "stream",
     "text": [
      "5\n"
     ]
    }
   ],
   "source": [
    "# 2. access individual elements through access\n",
    "arr2 = [1,2,3,4,5,6]\n",
    "\n",
    "def accesselement(array, index):\n",
    "    if index > len(arr2):\n",
    "        return \"no such number exists\"\n",
    "    else:\n",
    "        return array[index]\n",
    "    \n",
    "print(accesselement(arr2, 4))"
   ]
  },
  {
   "cell_type": "code",
   "execution_count": 3,
   "metadata": {},
   "outputs": [
    {
     "name": "stdout",
     "output_type": "stream",
     "text": [
      "[1, 2, 3, 4, 5, 6]\n"
     ]
    }
   ],
   "source": [
    "# 3. append any value to the array using append()\n",
    "arr3 = [1,2,3,4,5]\n",
    "arr3.append(6)\n",
    "print(arr3)"
   ]
  },
  {
   "cell_type": "code",
   "execution_count": 7,
   "metadata": {},
   "outputs": [
    {
     "name": "stdout",
     "output_type": "stream",
     "text": [
      "[10, 1, 2, 3, 4, 5]\n"
     ]
    }
   ],
   "source": [
    "# 4. insert value in an array using insert()\n",
    "arr4=[1,2,3,4,5]\n",
    "arr4.insert(0,10)\n",
    "print(arr4)"
   ]
  },
  {
   "cell_type": "code",
   "execution_count": 12,
   "metadata": {},
   "outputs": [
    {
     "name": "stdout",
     "output_type": "stream",
     "text": [
      "[1, 2, 3, 4, 5, 100, 11, 12, 13, 14, 15]\n"
     ]
    }
   ],
   "source": [
    "# 5. extend python array using extend()\n",
    "arr4=[1,2,3,4,5]\n",
    "arr5 = [100,11,12,13,14,15]\n",
    "arr4.extend(arr5)\n",
    "print(arr4)"
   ]
  },
  {
   "cell_type": "code",
   "execution_count": null,
   "metadata": {},
   "outputs": [],
   "source": [
    "# 6. add items from list into array using fromlist()\n",
    "arr5 = [1,2,3,4,5]\n",
    "arr6 = [6,7,8,9,10]\n",
    "\n",
    "arr5.fromlist(arr6)\n",
    "print(arr5)"
   ]
  },
  {
   "cell_type": "code",
   "execution_count": 21,
   "metadata": {},
   "outputs": [
    {
     "name": "stdout",
     "output_type": "stream",
     "text": [
      "[99, 88, 66, 55]\n"
     ]
    }
   ],
   "source": [
    "# 7. remove any array element using remove()\n",
    "arr7 = [99,88,77,66,55]\n",
    "\n",
    "arr7.remove(77)\n",
    "print(arr7)"
   ]
  },
  {
   "cell_type": "code",
   "execution_count": 22,
   "metadata": {},
   "outputs": [
    {
     "name": "stdout",
     "output_type": "stream",
     "text": [
      "[9, 8, 7, 6]\n"
     ]
    }
   ],
   "source": [
    "# 8. remove last array element using pop()\n",
    "arr8 = [9,8,7,6,5]\n",
    "arr8.pop()\n",
    "print(arr8)"
   ]
  },
  {
   "cell_type": "code",
   "execution_count": 25,
   "metadata": {},
   "outputs": [
    {
     "data": {
      "text/plain": [
       "4"
      ]
     },
     "execution_count": 25,
     "metadata": {},
     "output_type": "execute_result"
    }
   ],
   "source": [
    "# 9. fetch any element through its index using index()\n",
    "arr9 = [23,24,25,26,27]\n",
    "arr9.index(27)"
   ]
  },
  {
   "cell_type": "code",
   "execution_count": 28,
   "metadata": {},
   "outputs": [
    {
     "name": "stdout",
     "output_type": "stream",
     "text": [
      "[5, 4, 3, 2, 1]\n"
     ]
    }
   ],
   "source": [
    "# 10. reverse a python array using reverse() \n",
    "arr10 = [1,2,3,4,5]\n",
    "arr10.reverse()\n",
    "print(arr10)"
   ]
  },
  {
   "cell_type": "code",
   "execution_count": null,
   "metadata": {},
   "outputs": [],
   "source": [
    "# 11. get array buffer information through buffer_info()\n",
    "arr11 = [4,5,6,7,8]\n",
    "print(arr11.buffer_info())"
   ]
  },
  {
   "cell_type": "code",
   "execution_count": 35,
   "metadata": {},
   "outputs": [
    {
     "name": "stdout",
     "output_type": "stream",
     "text": [
      "6\n",
      "3\n"
     ]
    }
   ],
   "source": [
    "# 12. check for number of occurances of an elemt using count()\n",
    "arr12 = [1,1,2,2,3,3,3,4,5,5,5,5,5,5]\n",
    "print(arr12.count(5))\n",
    "print(arr12.count(3))"
   ]
  },
  {
   "cell_type": "code",
   "execution_count": 38,
   "metadata": {},
   "outputs": [
    {
     "name": "stdout",
     "output_type": "stream",
     "text": [
      "[10  9  8  7  6  5]\n"
     ]
    },
    {
     "name": "stderr",
     "output_type": "stream",
     "text": [
      "C:\\Users\\aakar\\AppData\\Local\\Temp\\ipykernel_25664\\3977501762.py:4: DeprecationWarning: tostring() is deprecated. Use tobytes() instead.\n",
      "  arr13.tostring()\n"
     ]
    }
   ],
   "source": [
    "# 13. convert array to string using tostring()\n",
    "import numpy as np\n",
    "arr13 = np.array([10,9,8,7,6,5])\n",
    "arr13.tostring()\n",
    "print(arr13)"
   ]
  },
  {
   "cell_type": "code",
   "execution_count": 39,
   "metadata": {},
   "outputs": [
    {
     "name": "stdout",
     "output_type": "stream",
     "text": [
      "[10  9  8  7  6  5]\n"
     ]
    }
   ],
   "source": [
    "# 14. convert array to a python list with same elements using tolist()\n",
    "import numpy as np\n",
    "arr13 = np.array([10,9,8,7,6,5])\n",
    "arr13.tolist()\n",
    "print(arr13)"
   ]
  },
  {
   "cell_type": "code",
   "execution_count": null,
   "metadata": {},
   "outputs": [],
   "source": [
    "# 15. append a string to char array using fromstring()\n",
    "           #fromstring() is removed from python 3.9"
   ]
  },
  {
   "cell_type": "code",
   "execution_count": 41,
   "metadata": {},
   "outputs": [
    {
     "name": "stdout",
     "output_type": "stream",
     "text": [
      "[7, 9, 11]\n"
     ]
    }
   ],
   "source": [
    "# 16. slice elements from an array\n",
    "arr16 = [1,3,5,7,9,11]\n",
    "print(arr16[3:6])"
   ]
  },
  {
   "cell_type": "markdown",
   "metadata": {},
   "source": [
    "SOLUTIONS:"
   ]
  },
  {
   "cell_type": "code",
   "execution_count": null,
   "metadata": {},
   "outputs": [],
   "source": [
    "#   Created by Elshad Karimov on 04/04/2020.\n",
    "#   Copyright © 2020 AppMillers. All rights reserved.\n",
    "from array import *\n",
    "\n",
    "# 1. Create an array and traverse. \n",
    "\n",
    "my_array = array('i',[1,2,3,4,5])\n",
    "\n",
    "for i in my_array:\n",
    "    print(i)\n",
    "\n",
    "\n",
    "# 2. Access individual elements through indexes\n",
    "print(\"Step 2\")\n",
    "print(my_array[3])\n",
    "\n",
    "# 3. Append any value to the array using append() method\n",
    "\n",
    "print(\"Step 3\")\n",
    "my_array.append(6)\n",
    "print(my_array)\n",
    "\n",
    "# 4. Insert value in an array using insert() method\n",
    "print(\"Step 4\")\n",
    "my_array.insert(3, 11)\n",
    "print(my_array)\n",
    "\n",
    "\n",
    "# 5. Extend python array using extend() method\n",
    "print(\"Step 5\")\n",
    "my_array1 = array('i', [10,11,12])\n",
    "my_array.extend(my_array1)\n",
    "print(my_array)\n",
    "\n",
    "# 6. Add items from list into array using fromlist() method\n",
    "print(\"Step 6\")\n",
    "tempList = [20,21,22]\n",
    "my_array.fromlist(tempList)\n",
    "print(my_array)\n",
    "\n",
    "# 7. Remove any array element using remove() method\n",
    "print(\"Step 7\")\n",
    "my_array.remove(11)\n",
    "print(my_array)\n",
    "\n",
    "# 8. Remove last array element using pop() method\n",
    "print(\"Step 8\")\n",
    "my_array.pop()\n",
    "print(my_array)\n",
    "\n",
    "# 9. Fetch any element through its index using index() method\n",
    "print(\"Step 9\")\n",
    "print(my_array.index(21))\n",
    "\n",
    "# 10. Reverse a python array using reverse() method\n",
    "print(\"Step 10\")\n",
    "my_array.reverse()\n",
    "print(my_array)\n",
    "\n",
    "# 11. Get array buffer information through buffer_info() method\n",
    "print(\"Step 11\")\n",
    "print(my_array.buffer_info())\n",
    "\n",
    "# 12. Check for number of occurrences of an element using count() method\n",
    "print(\"Step 12\")\n",
    "my_array.append(11)\n",
    "print(my_array.count(11))\n",
    "print(my_array)\n",
    "# 13. Convert array to string using tostring() method\n",
    "print(\"Step 13\")\n",
    "strTemp = my_array.tostring()\n",
    "print(strTemp)\n",
    "ints = array('i')\n",
    "ints.fromstring(strTemp)\n",
    "print(ints)\n",
    "\n",
    "# 14. Convert array to a python list with same elements using tolist() method\n",
    "print(\"Step 14\")\n",
    "# print(my_array.tolist())\n",
    "# 15. Append a string to char array using fromstring() method\n",
    "\n",
    "# 16. Slice Elements from an array\n",
    "print(\"Step 16\")\n",
    "print(my_array[:])"
   ]
  }
 ],
 "metadata": {
  "kernelspec": {
   "display_name": "Python 3",
   "language": "python",
   "name": "python3"
  },
  "language_info": {
   "codemirror_mode": {
    "name": "ipython",
    "version": 3
   },
   "file_extension": ".py",
   "mimetype": "text/x-python",
   "name": "python",
   "nbconvert_exporter": "python",
   "pygments_lexer": "ipython3",
   "version": "3.11.9"
  }
 },
 "nbformat": 4,
 "nbformat_minor": 2
}
