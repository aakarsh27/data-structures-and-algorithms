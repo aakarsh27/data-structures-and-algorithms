{
 "cells": [
  {
   "cell_type": "markdown",
   "metadata": {},
   "source": [
    "CREATING AN ARRAY"
   ]
  },
  {
   "cell_type": "code",
   "execution_count": 15,
   "metadata": {},
   "outputs": [
    {
     "name": "stdout",
     "output_type": "stream",
     "text": [
      "array('i')\n",
      "array('i', [1, 2, 3, 4])\n"
     ]
    }
   ],
   "source": [
    "#importing an array\n",
    "import array\n",
    "\n",
    "my_array=array.array('i')\n",
    "print(my_array)\n",
    "\n",
    "my_array1 = array.array('i', [1,2,3,4])\n",
    "print(my_array1)\n"
   ]
  },
  {
   "cell_type": "code",
   "execution_count": 2,
   "metadata": {},
   "outputs": [
    {
     "name": "stdout",
     "output_type": "stream",
     "text": [
      "[]\n",
      "[1 2 3 4]\n"
     ]
    }
   ],
   "source": [
    "#using numpy\n",
    "import numpy as np\n",
    "np_array= np.array([], dtype = int)\n",
    "print(np_array)\n",
    "\n",
    "np_array1= np.array([1, 2, 3, 4])\n",
    "print(np_array1)"
   ]
  },
  {
   "cell_type": "markdown",
   "metadata": {},
   "source": [
    "INSERTION TO AN ARRAY"
   ]
  },
  {
   "cell_type": "code",
   "execution_count": 14,
   "metadata": {},
   "outputs": [
    {
     "name": "stdout",
     "output_type": "stream",
     "text": [
      "array('i', [1, 2, 3, 4])\n"
     ]
    }
   ],
   "source": [
    "print(my_array1)"
   ]
  },
  {
   "cell_type": "code",
   "execution_count": 16,
   "metadata": {},
   "outputs": [
    {
     "name": "stdout",
     "output_type": "stream",
     "text": [
      "array('i', [6, 1, 2, 3, 4])\n"
     ]
    }
   ],
   "source": [
    "my_array1.insert(0, 6)\n",
    "print(my_array1)"
   ]
  },
  {
   "cell_type": "markdown",
   "metadata": {},
   "source": [
    "ARRAY TRAVERSAL\n",
    "\n",
    "the time complexity for traversal is O(n)"
   ]
  },
  {
   "cell_type": "code",
   "execution_count": 19,
   "metadata": {},
   "outputs": [
    {
     "name": "stdout",
     "output_type": "stream",
     "text": [
      "array('i', [1, 2, 9, 3, 4])\n",
      "1\n",
      "2\n",
      "9\n",
      "3\n",
      "4\n"
     ]
    }
   ],
   "source": [
    "from array import *\n",
    "\n",
    "arr1 = array('i', [1,2,3,4])\n",
    "arr2 = array('d', [1.3, 1.5, 1.6])\n",
    "\n",
    "arr1.insert(2,9)\n",
    "print(arr1)\n",
    "\n",
    "def traverseArray(array):\n",
    "    for i in array:\n",
    "        print(i)\n",
    "\n",
    "traverseArray(arr1)"
   ]
  },
  {
   "cell_type": "markdown",
   "metadata": {},
   "source": [
    "ACCESS AN ARRAY IN AN ELEMENT\n",
    "\n",
    "the time complexity for accessing is O(1)"
   ]
  },
  {
   "cell_type": "code",
   "execution_count": 33,
   "metadata": {},
   "outputs": [
    {
     "name": "stdout",
     "output_type": "stream",
     "text": [
      "3\n"
     ]
    }
   ],
   "source": [
    "from array import *\n",
    "\n",
    "arr1 = array('i', [1, 2, 3, 4, 5, 6])\n",
    "\n",
    "def accessElement(array, index):\n",
    "    if index >= len(array):\n",
    "      print(\"there is no such index\")\n",
    "    else:\n",
    "      print(array[index])\n",
    "\n",
    "accessElement(arr1, 2)"
   ]
  },
  {
   "cell_type": "markdown",
   "metadata": {},
   "source": [
    "SEARCHING AN ELEMENT IN AN ARRAY\n",
    "\n",
    "the time complexity for searching is O(n) \n",
    "and space complexity is O(1)"
   ]
  },
  {
   "cell_type": "code",
   "execution_count": 37,
   "metadata": {},
   "outputs": [
    {
     "name": "stdout",
     "output_type": "stream",
     "text": [
      "4\n"
     ]
    }
   ],
   "source": [
    "import array\n",
    "\n",
    "my_array1 = array.array('i', [1,2,3,4,5])\n",
    "\n",
    "def linear_search(arr, target):\n",
    "    for i in range(len(arr)):\n",
    "        if arr[i] == target:\n",
    "            return i\n",
    "    return -1\n",
    "\n",
    "print(linear_search(my_array1, 5))"
   ]
  },
  {
   "cell_type": "markdown",
   "metadata": {},
   "source": [
    "DELETING AN ELEMENT FROM AN ARRAY\n",
    "\n",
    "time complexity will be O(n)\n",
    "space complexity will be O(1)\n"
   ]
  },
  {
   "cell_type": "code",
   "execution_count": 40,
   "metadata": {},
   "outputs": [
    {
     "name": "stdout",
     "output_type": "stream",
     "text": [
      "array('i', [1, 2, 3, 4, 5])\n"
     ]
    }
   ],
   "source": [
    "from array import *\n",
    "\n",
    "arr1 = array('i', [1, 2, 3, 4, 5, 6])\n",
    "\n",
    "arr1.remove(6)\n",
    "\n",
    "print(arr1)"
   ]
  },
  {
   "cell_type": "markdown",
   "metadata": {},
   "source": [
    "TWO-DIMENSIONAL ARRAY"
   ]
  },
  {
   "cell_type": "code",
   "execution_count": 6,
   "metadata": {},
   "outputs": [
    {
     "name": "stdout",
     "output_type": "stream",
     "text": [
      "[[ 1  2  3  4]\n",
      " [ 5  6  7  8]\n",
      " [ 9 10 11 12]\n",
      " [13 14 15 16]]\n"
     ]
    }
   ],
   "source": [
    "import numpy as np\n",
    "\n",
    "twoDArray = np.array([[1,2,3,4], [5,6,7,8], [9,10,11,12], [13,14,15,16]])\n",
    "print(twoDArray)\n"
   ]
  },
  {
   "cell_type": "code",
   "execution_count": 27,
   "metadata": {},
   "outputs": [
    {
     "name": "stdout",
     "output_type": "stream",
     "text": [
      "4\n",
      "4\n"
     ]
    }
   ],
   "source": [
    "#prints no. of rows\n",
    "print(len(twoDArray))\n",
    "\n",
    "#prints no. of columns\n",
    "print(len(twoDArray[0]))"
   ]
  },
  {
   "cell_type": "markdown",
   "metadata": {},
   "source": [
    "INSERTION IN A 2D ARRAY\n",
    "`#np.insert(array, index, value, axis)`\n",
    "time complexity for insertion is O(mn) because both rows and columns are affected"
   ]
  },
  {
   "cell_type": "code",
   "execution_count": 14,
   "metadata": {},
   "outputs": [
    {
     "name": "stdout",
     "output_type": "stream",
     "text": [
      "[[ 1  2  3  4]\n",
      " [ 5  6  7  8]\n",
      " [ 9 10 11 12]\n",
      " [13 14 15 16]]\n",
      "[[99 98 97 96]\n",
      " [ 1  2  3  4]\n",
      " [ 5  6  7  8]\n",
      " [ 9 10 11 12]\n",
      " [13 14 15 16]]\n"
     ]
    }
   ],
   "source": [
    "print(twoDArray)\n",
    "\n",
    "#inserting a new row, axis should be 0\n",
    "newTwoDArray = np.insert(twoDArray, 0, [99,98,97,96], axis = 0)\n",
    "print(newTwoDArray)"
   ]
  },
  {
   "cell_type": "code",
   "execution_count": 18,
   "metadata": {},
   "outputs": [
    {
     "name": "stdout",
     "output_type": "stream",
     "text": [
      "[[ 1  2  3  4]\n",
      " [ 5  6  7  8]\n",
      " [ 9 10 11 12]\n",
      " [13 14 15 16]]\n",
      "[[99  1  2  3  4]\n",
      " [98  5  6  7  8]\n",
      " [97  9 10 11 12]\n",
      " [96 13 14 15 16]]\n"
     ]
    }
   ],
   "source": [
    "print(twoDArray)\n",
    "\n",
    "#inserting a new column, axis should be 1\n",
    "newTwoDArray = np.insert(twoDArray, 0, [99,98,97,96], axis = 1)\n",
    "print(newTwoDArray)"
   ]
  },
  {
   "cell_type": "code",
   "execution_count": 20,
   "metadata": {},
   "outputs": [
    {
     "name": "stdout",
     "output_type": "stream",
     "text": [
      "[[ 1  2  3  4]\n",
      " [ 5  6  7  8]\n",
      " [ 9 10 11 12]\n",
      " [13 14 15 16]]\n",
      "[[ 1  2  3  4]\n",
      " [ 5  6  7  8]\n",
      " [ 9 10 11 12]\n",
      " [13 14 15 16]\n",
      " [99 98 97 96]]\n"
     ]
    }
   ],
   "source": [
    "#we can also use the append function, it works similarly. it joins at the end of the code\n",
    "\n",
    "print(twoDArray)\n",
    "\n",
    "#inserting a new column, axis should be 1\n",
    "newTwoDArray = np.append(twoDArray,[[99,98,97,96]], axis = 0)\n",
    "print(newTwoDArray)"
   ]
  },
  {
   "cell_type": "markdown",
   "metadata": {},
   "source": [
    "ACCESSING AN ELEMENT IN A 2D ARRAY"
   ]
  },
  {
   "cell_type": "code",
   "execution_count": 23,
   "metadata": {},
   "outputs": [
    {
     "name": "stdout",
     "output_type": "stream",
     "text": [
      "[[ 1  2  3  4]\n",
      " [ 5  6  7  8]\n",
      " [ 9 10 11 12]\n",
      " [13 14 15 16]]\n",
      "12\n"
     ]
    }
   ],
   "source": [
    "import numpy as np\n",
    "\n",
    "twoDArray = np.array([[1,2,3,4], [5,6,7,8], [9,10,11,12], [13,14,15,16]])\n",
    "print(twoDArray)\n",
    "\n",
    "def accessElementTwoD(array, rowIndex, colIndex):\n",
    "    if rowIndex >= len(array) or colIndex >= len(array[0]):\n",
    "        print(\"there is no such index\")\n",
    "    else:\n",
    "        print(array[rowIndex][colIndex])\n",
    "\n",
    "\n",
    "accessElementTwoD(twoDArray, 2, 3)"
   ]
  },
  {
   "cell_type": "markdown",
   "metadata": {},
   "source": [
    "TRAVERSING THROUGH A 2D ARRAY"
   ]
  },
  {
   "cell_type": "code",
   "execution_count": 29,
   "metadata": {},
   "outputs": [
    {
     "name": "stdout",
     "output_type": "stream",
     "text": [
      "[[ 1  2  3  4]\n",
      " [ 5  6  7  8]\n",
      " [ 9 10 11 12]\n",
      " [13 14 15 16]]\n",
      "1\n",
      "2\n",
      "3\n",
      "4\n",
      "5\n",
      "6\n",
      "7\n",
      "8\n",
      "9\n",
      "10\n",
      "11\n",
      "12\n",
      "13\n",
      "14\n",
      "15\n",
      "16\n"
     ]
    }
   ],
   "source": [
    "import numpy as np\n",
    "\n",
    "twoDArray = np.array([[1,2,3,4], [5,6,7,8], [9,10,11,12], [13,14,15,16]])\n",
    "print(twoDArray)\n",
    "\n",
    "def traverseArrayTwoD(array):\n",
    "    for i in range(len(twoDArray)):\n",
    "        for j in range(len(twoDArray[0])):\n",
    "            print(array[i][j])\n",
    "\n",
    "traverseArrayTwoD(twoDArray)"
   ]
  },
  {
   "cell_type": "markdown",
   "metadata": {},
   "source": [
    "SEARCHING AN ELEMENT IN A 2D ARRAY"
   ]
  },
  {
   "cell_type": "code",
   "execution_count": 33,
   "metadata": {},
   "outputs": [
    {
     "name": "stdout",
     "output_type": "stream",
     "text": [
      "[[ 1  2  3  4]\n",
      " [ 5  6  7  8]\n",
      " [ 9 10 11 12]\n",
      " [13 14 15 16]]\n"
     ]
    },
    {
     "data": {
      "text/plain": [
       "'the index of the value is 2 & 3'"
      ]
     },
     "execution_count": 33,
     "metadata": {},
     "output_type": "execute_result"
    }
   ],
   "source": [
    "import numpy as np\n",
    "\n",
    "twoDArray = np.array([[1,2,3,4], [5,6,7,8], [9,10,11,12], [13,14,15,16]])\n",
    "print(twoDArray)\n",
    "\n",
    "def searchTwoDArray(array, value):\n",
    "    for i in range(len(twoDArray)):\n",
    "        for j in range(len(twoDArray[0])):\n",
    "            if array[i][j] == value:\n",
    "                return 'the index of the value is ' + str(i) + \" & \" + str(j)\n",
    "    return 'element not found'\n",
    "            \n",
    "searchTwoDArray(twoDArray, 12)"
   ]
  },
  {
   "cell_type": "markdown",
   "metadata": {},
   "source": [
    "DELETION IN 2D ARRAY"
   ]
  },
  {
   "cell_type": "code",
   "execution_count": 39,
   "metadata": {},
   "outputs": [
    {
     "name": "stdout",
     "output_type": "stream",
     "text": [
      "[[ 1  2  3  4]\n",
      " [ 5  6  7  8]\n",
      " [ 9 10 11 12]\n",
      " [13 14 15 16]]\n",
      "[[ 5  6  7  8]\n",
      " [ 9 10 11 12]\n",
      " [13 14 15 16]]\n"
     ]
    }
   ],
   "source": [
    "import numpy as np\n",
    "\n",
    "twoDArray = np.array([[1,2,3,4], [5,6,7,8], [9,10,11,12], [13,14,15,16]])\n",
    "print(twoDArray)\n",
    "\n",
    "#for rows the axis should be 0, and for columns the axis will be 1\n",
    "newTDArray = np.delete(twoDArray, 0, axis = 0)\n",
    "print(newTDArray)"
   ]
  },
  {
   "cell_type": "code",
   "execution_count": null,
   "metadata": {},
   "outputs": [],
   "source": []
  }
 ],
 "metadata": {
  "kernelspec": {
   "display_name": "Python 3",
   "language": "python",
   "name": "python3"
  },
  "language_info": {
   "codemirror_mode": {
    "name": "ipython",
    "version": 3
   },
   "file_extension": ".py",
   "mimetype": "text/x-python",
   "name": "python",
   "nbconvert_exporter": "python",
   "pygments_lexer": "ipython3",
   "version": "3.11.9"
  }
 },
 "nbformat": 4,
 "nbformat_minor": 2
}
