{
 "cells": [
  {
   "cell_type": "markdown",
   "metadata": {},
   "source": [
    "Python lists are a data structure that holds an ordered collection of items\n",
    "\n",
    "the only difference between array and a list is that multiple data type elements can be stored in the same list\n",
    "\n",
    "[10, 20, 30]           ------> integers\n",
    "['ed', 'edd', 'eddy']  ------> strings\n",
    "['john', 0.1, 5]       ------> string, float, int\n",
    "['john', 0.1, [10,20]] ------> string, float, nested list"
   ]
  },
  {
   "cell_type": "code",
   "execution_count": 7,
   "metadata": {},
   "outputs": [
    {
     "name": "stdout",
     "output_type": "stream",
     "text": [
      "[1, 2, 3, 4]\n",
      "['milk', 'cheese', 'bread']\n",
      "['john', 0.1, 5]\n",
      "['john', 0.1, [10, 20]]\n",
      "[]\n"
     ]
    }
   ],
   "source": [
    "integers = [1,2,3,4]\n",
    "print(integers)\n",
    "\n",
    "stringList = ['milk', 'cheese', 'bread']\n",
    "print(stringList)\n",
    "\n",
    "mixlist = ['john', 0.1, 5]  \n",
    "print(mixlist)\n",
    "\n",
    "nestedlist = ['john', 0.1, [10,20]] \n",
    "print(nestedlist)\n",
    "\n",
    "empty =[]\n",
    "print(empty)"
   ]
  },
  {
   "cell_type": "markdown",
   "metadata": {},
   "source": [
    "ACCESS AND TRAVERSE THROUGH A LIST"
   ]
  },
  {
   "cell_type": "code",
   "execution_count": 19,
   "metadata": {},
   "outputs": [
    {
     "name": "stdout",
     "output_type": "stream",
     "text": [
      "bread\n",
      "butter\n",
      "True\n",
      "\n",
      "\n",
      "milk\n",
      "bread\n",
      "butter\n",
      "\n",
      "\n",
      "milk bought\n",
      "bread bought\n",
      "butter bought\n"
     ]
    }
   ],
   "source": [
    "shoppinglist = ['milk', 'bread', 'butter']\n",
    "\n",
    "##accessing elements\n",
    "print(shoppinglist[1])\n",
    "print(shoppinglist[-1])\n",
    "\n",
    "#the `in` operator can also be used to find out \n",
    "#something in a list. if that element is present \"in\" the list, it will return true\n",
    "\n",
    "print('milk' in shoppinglist)\n",
    "print(\"\\n\")\n",
    "\n",
    "\n",
    "##traversing elements\n",
    "for i in shoppinglist:\n",
    "    print(i)\n",
    "\n",
    "print(\"\\n\")\n",
    "\n",
    "for i in range(len(shoppinglist)):\n",
    "    shoppinglist[i] = shoppinglist[i] + \" bought\"\n",
    "    print(shoppinglist[i])"
   ]
  },
  {
   "cell_type": "markdown",
   "metadata": {},
   "source": [
    "INSERTING/UPDATING A LIST"
   ]
  },
  {
   "cell_type": "code",
   "execution_count": 23,
   "metadata": {},
   "outputs": [
    {
     "name": "stdout",
     "output_type": "stream",
     "text": [
      "[1, 2, 3, 4, 5, 6, 7, 8]\n",
      "[1, 2, 33, 4, 55, 6, 7, 8]\n"
     ]
    }
   ],
   "source": [
    "my_list = [1,2,3,4,5,6,7,8]\n",
    "print(my_list)\n",
    "\n",
    "my_list[2] = 33\n",
    "my_list[4] = 55\n",
    "print(my_list)\n",
    "\n",
    "#list methods\n",
    "#insert(), append(), extend()"
   ]
  },
  {
   "cell_type": "code",
   "execution_count": 29,
   "metadata": {},
   "outputs": [
    {
     "name": "stdout",
     "output_type": "stream",
     "text": [
      "[1, 2, 3, 4, 5, 6, 7, 8]\n",
      "[1, 2, 3, 4, 45, 5, 6, 7, 8]\n",
      "[1, 2, 3, 4, 45, 5, 6, 7, 8, 55]\n",
      "[1, 2, 3, 4, 45, 5, 6, 7, 8, 55, 80, 81, 82, 83]\n"
     ]
    }
   ],
   "source": [
    "#list methods\n",
    "#insert(), append(), extend()\n",
    "\n",
    "my_list = [1,2,3,4,5,6,7,8]\n",
    "print(my_list)\n",
    "\n",
    "my_list.insert(4, 45)\n",
    "print(my_list)\n",
    "\n",
    "my_list.append(55)\n",
    "print(my_list)\n",
    "\n",
    "newlist= [80,81,82,83]\n",
    "my_list.extend(newlist)\n",
    "print(my_list)\n",
    "\n"
   ]
  },
  {
   "cell_type": "markdown",
   "metadata": {},
   "source": [
    "DELETION/SLICING OF ELEMENTS IN A LIST"
   ]
  },
  {
   "cell_type": "code",
   "execution_count": 33,
   "metadata": {},
   "outputs": [
    {
     "name": "stdout",
     "output_type": "stream",
     "text": [
      "['a', 'b']\n",
      "[]\n",
      "['x', 'y', 'c', 'd', 'e', 'f', 'g', 'h']\n"
     ]
    }
   ],
   "source": [
    "my_list = ['a', 'b', 'c', 'd', 'e', 'f', 'g', 'h']\n",
    "print(my_list[0:2])\n",
    "print(my_list[1:1])\n",
    "my_list[0:2] = ['x', 'y']\n",
    "print(my_list)"
   ]
  },
  {
   "cell_type": "code",
   "execution_count": 43,
   "metadata": {},
   "outputs": [
    {
     "name": "stdout",
     "output_type": "stream",
     "text": [
      "['a', 'b', 'c', 'd', 'e', 'f', 'g']\n",
      "c\n",
      "['a', 'b', 'f', 'g']\n",
      "['b', 'f', 'g']\n"
     ]
    }
   ],
   "source": [
    "#pop()\n",
    "#delete()\n",
    "#remove()\n",
    "\n",
    "my_list = ['a', 'b', 'c', 'd', 'e', 'f', 'g', 'h']\n",
    "my_list.pop()\n",
    "print(my_list)\n",
    "print(my_list.pop(2))\n",
    "\n",
    "\n",
    "del my_list[2:4]\n",
    "print(my_list)\n",
    "\n",
    "\n",
    "my_list.remove('a')\n",
    "print(my_list)"
   ]
  },
  {
   "cell_type": "markdown",
   "metadata": {},
   "source": [
    "SEARCHING AN ELEMENT IN A LIST"
   ]
  },
  {
   "cell_type": "code",
   "execution_count": 52,
   "metadata": {},
   "outputs": [
    {
     "name": "stdout",
     "output_type": "stream",
     "text": [
      "50 is in the list\n",
      "4\n"
     ]
    }
   ],
   "source": [
    "my_list = [10,20,30,40,50,60,70,80]\n",
    "\n",
    "target = 50\n",
    "\n",
    "#in operator\n",
    "if target in my_list:\n",
    "    print(f\"{target} is in the list\")\n",
    "else:\n",
    "    print(f\"{target} is not present in the list\")\n",
    "\n",
    "#linear search\n",
    "def linearSearch(p_list, p_target):\n",
    "    for i, value in enumerate(p_list):\n",
    "        if value == p_target:\n",
    "            return i\n",
    "    return -1\n",
    "\n",
    "print(linearSearch(my_list, target))\n"
   ]
  },
  {
   "cell_type": "markdown",
   "metadata": {},
   "source": [
    "LIST OPERATIONS/FUNCTIONS"
   ]
  },
  {
   "cell_type": "code",
   "execution_count": 60,
   "metadata": {},
   "outputs": [
    {
     "name": "stdout",
     "output_type": "stream",
     "text": [
      "[1, 2, 3, 4, 5, 6]\n",
      "[1, 2, 3, 1, 2, 3, 1, 2, 3, 1, 2, 3]\n",
      "3\n",
      "3\n",
      "6\n",
      "21\n"
     ]
    }
   ],
   "source": [
    "#  + operator: concatenates lists\n",
    "a = [1,2,3]\n",
    "b = [4,5,6]\n",
    "\n",
    "c = a + b\n",
    "print(c)\n",
    "\n",
    "#  * operator: repeats list\n",
    "d = a * 4\n",
    "print(d)\n",
    "\n",
    "# len() function: returns length of list\n",
    "print(len(b))\n",
    "\n",
    "#  min() and max()\n",
    "print(max(a))\n",
    "print(max(b))\n",
    "\n",
    "# sum() funtion\n",
    "print(sum(c))"
   ]
  },
  {
   "cell_type": "code",
   "execution_count": 64,
   "metadata": {},
   "outputs": [
    {
     "name": "stdout",
     "output_type": "stream",
     "text": [
      "3.0\n",
      "average: 2.0\n"
     ]
    }
   ],
   "source": [
    "a = [0,1,2,3,4,5,6]\n",
    "print(sum(a)/len(a))\n",
    "\n",
    "\n",
    "#finding average\n",
    "\n",
    "total = 0\n",
    "count = 0\n",
    "while (True):\n",
    "    inp = input(\"enter a number: \")\n",
    "    if inp == 'done':\n",
    "        break\n",
    "    value = float(inp)\n",
    "    count = count + 1\n",
    "    total = total + value\n",
    "\n",
    "    average = total / count\n",
    "print(\"average:\", average)"
   ]
  },
  {
   "cell_type": "code",
   "execution_count": 65,
   "metadata": {},
   "outputs": [
    {
     "name": "stdout",
     "output_type": "stream",
     "text": [
      "average: 20.333333333333332\n"
     ]
    }
   ],
   "source": [
    "my_list = list()\n",
    "while (True):\n",
    "    inp = input(\"enter a number: \")\n",
    "    if inp == 'done':\n",
    "        break\n",
    "    value = float(inp)\n",
    "    my_list.append(value)\n",
    "    average = sum(my_list) / len(my_list)\n",
    "print(\"average:\", average)"
   ]
  },
  {
   "cell_type": "markdown",
   "metadata": {},
   "source": [
    "SRINGS AND LISTS"
   ]
  },
  {
   "cell_type": "code",
   "execution_count": 71,
   "metadata": {},
   "outputs": [
    {
     "name": "stdout",
     "output_type": "stream",
     "text": [
      "['a', 'p', 'p', 'l', 'e', ' ', 'a', 'p', 'p', 'l', 'e', ' ', 'a', 'p', 'p', 'l', 'e']\n",
      "apple apple apple\n",
      "['spam', 'spam1', 'spam2']\n"
     ]
    }
   ],
   "source": [
    "a = 'apple apple apple'\n",
    "b = list(a)\n",
    "print(b)\n",
    "\n",
    "#strip function\n",
    "print(a.strip())\n",
    "\n",
    "# we can also use a delimiter function\n",
    "delimiter = '-'\n",
    "a = 'spam-spam1-spam2'\n",
    "b= a.split(delimiter)\n",
    "print(b)"
   ]
  },
  {
   "cell_type": "markdown",
   "metadata": {},
   "source": [
    "LISTS COMPREHENSION "
   ]
  },
  {
   "cell_type": "code",
   "execution_count": 77,
   "metadata": {},
   "outputs": [
    {
     "name": "stdout",
     "output_type": "stream",
     "text": [
      "[2, 4, 6]\n",
      "[2, 4, 6]\n",
      "['p', 'y', 't', 'h', 'o', 'n']\n"
     ]
    }
   ],
   "source": [
    "prev_list = [1,2,3]\n",
    "new_list =[]\n",
    "for i in prev_list:\n",
    "    mul2 = i * 2\n",
    "    new_list.append(mul2)\n",
    "\n",
    "print(new_list)\n",
    "\n",
    "#the same could be done in one line\n",
    "\n",
    "new_list2 = [i*2 for i in prev_list]\n",
    "print(new_list2)\n",
    "\n",
    "language = 'python'\n",
    "new_list3 = [letter for letter in language]\n",
    "print(new_list3)"
   ]
  },
  {
   "cell_type": "markdown",
   "metadata": {},
   "source": [
    "CONDITIONAL COMPREHENSION"
   ]
  },
  {
   "cell_type": "code",
   "execution_count": 1,
   "metadata": {},
   "outputs": [
    {
     "name": "stdout",
     "output_type": "stream",
     "text": [
      "[100, 400, 2916]\n"
     ]
    }
   ],
   "source": [
    "listt= [10,20,-35, 54, -50]\n",
    "new_list4 = [i*i for i in listt if i>0]\n",
    "print(new_list4)\n"
   ]
  }
 ],
 "metadata": {
  "kernelspec": {
   "display_name": "Python 3",
   "language": "python",
   "name": "python3"
  },
  "language_info": {
   "codemirror_mode": {
    "name": "ipython",
    "version": 3
   },
   "file_extension": ".py",
   "mimetype": "text/x-python",
   "name": "python",
   "nbconvert_exporter": "python",
   "pygments_lexer": "ipython3",
   "version": "3.11.9"
  }
 },
 "nbformat": 4,
 "nbformat_minor": 2
}
