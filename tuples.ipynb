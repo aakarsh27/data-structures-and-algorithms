{
 "cells": [
  {
   "cell_type": "markdown",
   "metadata": {},
   "source": [
    "INTRODUCTION TO TUPLES"
   ]
  },
  {
   "cell_type": "code",
   "execution_count": 4,
   "metadata": {},
   "outputs": [
    {
     "name": "stdout",
     "output_type": "stream",
     "text": [
      "('a', 'b', 'c', 'd', 'e')\n",
      "('a',)\n",
      "()\n",
      "('a', 'b', 'c', 'd', 'e')\n"
     ]
    }
   ],
   "source": [
    "newTuple = ('a', 'b', 'c', 'd', 'e')\n",
    "newTuple1 = ('a',)\n",
    "newTuple2 = tuple()\n",
    "newTuple3 = tuple('abcde')\n",
    "\n",
    "print(newTuple)\n",
    "print(newTuple1)\n",
    "print(newTuple2)\n",
    "print(newTuple3)"
   ]
  },
  {
   "cell_type": "markdown",
   "metadata": {},
   "source": [
    "ACCESS ELEMENTS OF A TUPLE"
   ]
  },
  {
   "cell_type": "code",
   "execution_count": 34,
   "metadata": {},
   "outputs": [
    {
     "name": "stdout",
     "output_type": "stream",
     "text": [
      "c\n",
      "d\n",
      "('b', 'c')\n",
      "('a', 'b', 'c')\n",
      "('d', 'e')\n",
      "('a', 'b', 'c', 'd', 'e')\n"
     ]
    }
   ],
   "source": [
    "newTuple = ('a', 'b', 'c', 'd', 'e')\n",
    "\n",
    "print(newTuple[2])\n",
    "print(newTuple[-2])\n",
    "print(newTuple[1:3])\n",
    "print(newTuple[:3])\n",
    "print(newTuple[3:])\n",
    "print(newTuple[:])"
   ]
  },
  {
   "cell_type": "markdown",
   "metadata": {},
   "source": [
    "TRAVERSE ELEMENTS IN A TUPLE"
   ]
  },
  {
   "cell_type": "code",
   "execution_count": 13,
   "metadata": {},
   "outputs": [
    {
     "name": "stdout",
     "output_type": "stream",
     "text": [
      "a\n",
      "b\n",
      "c\n",
      "d\n",
      "e\n",
      "a\n",
      "b\n",
      "c\n",
      "d\n",
      "e\n",
      "abcde"
     ]
    }
   ],
   "source": [
    "newTuple = ('a', 'b', 'c', 'd', 'e')\n",
    "\n",
    "for i in newTuple:\n",
    "    print(i)\n",
    "\n",
    "for i in range(len(newTuple)):\n",
    "    print(newTuple[i])\n",
    "\n",
    "for i in newTuple:    \n",
    "    print(i, end ='')"
   ]
  },
  {
   "cell_type": "markdown",
   "metadata": {},
   "source": [
    "SEARCH FOR AN ELEMENT IN A TUPLE"
   ]
  },
  {
   "cell_type": "code",
   "execution_count": 23,
   "metadata": {},
   "outputs": [
    {
     "name": "stdout",
     "output_type": "stream",
     "text": [
      "True\n",
      "False\n",
      "2\n",
      "the element is found at 1 index\n"
     ]
    }
   ],
   "source": [
    "newTuple = ('a', 'b', 'c', 'd', 'e')\n",
    "print('a' in newTuple)\n",
    "print('f' in newTuple)\n",
    "\n",
    "print(newTuple.index('c'))\n",
    "\n",
    "def searchTuple(p_tuple, element):\n",
    "    for i in range(0, len(p_tuple)):\n",
    "        if p_tuple[i] == element:\n",
    "            return f\"the element is found at {i} index\"\n",
    "    return \"the element is not found\"\n",
    "\n",
    "print(searchTuple(newTuple, 'b'))"
   ]
  },
  {
   "cell_type": "markdown",
   "metadata": {},
   "source": [
    "TUPLE OPERATIONS/FUNCTIONS"
   ]
  },
  {
   "cell_type": "code",
   "execution_count": 33,
   "metadata": {},
   "outputs": [
    {
     "name": "stdout",
     "output_type": "stream",
     "text": [
      "(1, 4, 3, 2, 5, 1, 2, 6, 9, 8, 7)\n",
      "(1, 4, 3, 2, 5, 1, 4, 3, 2, 5, 1, 4, 3, 2, 5, 1, 4, 3, 2, 5)\n",
      "True\n",
      "1\n",
      "2\n",
      "5\n",
      "5\n",
      "1\n",
      "(1, 2, 3, 4)\n"
     ]
    }
   ],
   "source": [
    "myTuple = (1,4,3,2,5)\n",
    "myTuple1 = (1,2,6,9,8,7)\n",
    "\n",
    "print(myTuple + myTuple1)\n",
    "print(myTuple * 4)\n",
    "print(4 in myTuple)\n",
    "print(myTuple.count(2))\n",
    "print(myTuple.index(3))\n",
    "print(len(myTuple))\n",
    "print(max(myTuple))\n",
    "print(min(myTuple))\n",
    "print(tuple([1,2,3,4])) # list to tuple\n"
   ]
  }
 ],
 "metadata": {
  "kernelspec": {
   "display_name": "Python 3",
   "language": "python",
   "name": "python3"
  },
  "language_info": {
   "codemirror_mode": {
    "name": "ipython",
    "version": 3
   },
   "file_extension": ".py",
   "mimetype": "text/x-python",
   "name": "python",
   "nbconvert_exporter": "python",
   "pygments_lexer": "ipython3",
   "version": "3.11.9"
  }
 },
 "nbformat": 4,
 "nbformat_minor": 2
}
